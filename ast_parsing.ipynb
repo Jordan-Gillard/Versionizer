{
 "cells": [
  {
   "cell_type": "markdown",
   "source": [
    "# AST Analysis Notebook\n"
   ],
   "metadata": {
    "collapsed": false
   }
  },
  {
   "cell_type": "code",
   "execution_count": 18,
   "outputs": [
    {
     "name": "stdout",
     "output_type": "stream",
     "text": [
      "Done importing\n"
     ]
    }
   ],
   "source": [
    "# Import necessary libraries\n",
    "import astor\n",
    "import ast\n",
    "print(\"Done importing\")"
   ],
   "metadata": {
    "collapsed": false,
    "pycharm": {
     "name": "#%%\n"
    }
   }
  },
  {
   "cell_type": "markdown",
   "source": [
    "Show version 1 AST"
   ],
   "metadata": {
    "collapsed": false,
    "pycharm": {
     "name": "#%% md\n"
    }
   }
  },
  {
   "cell_type": "code",
   "execution_count": 19,
   "outputs": [
    {
     "name": "stdout",
     "output_type": "stream",
     "text": [
      "Module(\n",
      "    body=[\n",
      "        FunctionDef(name='assign_numbers',\n",
      "            args=arguments(posonlyargs=[],\n",
      "                args=[],\n",
      "                vararg=None,\n",
      "                kwonlyargs=[],\n",
      "                kw_defaults=[],\n",
      "                kwarg=None,\n",
      "                defaults=[]),\n",
      "            body=[\n",
      "                Assign(targets=[Name(id='x')], value=Constant(value=1, kind=None), type_comment=None),\n",
      "                Assign(targets=[Name(id='y')],\n",
      "                    value=BinOp(left=Constant(value=2, kind=None), op=Add, right=Constant(value=3, kind=None)),\n",
      "                    type_comment=None)],\n",
      "            decorator_list=[],\n",
      "            returns=None,\n",
      "            type_comment=None)],\n",
      "    type_ignores=[])\n"
     ]
    }
   ],
   "source": [
    "compiled_ast = astor.parse_file(\"sample_files/funcs_v1.py\")\n",
    "print(astor.dump_tree(compiled_ast))"
   ],
   "metadata": {
    "collapsed": false,
    "pycharm": {
     "name": "#%%\n"
    }
   }
  },
  {
   "cell_type": "markdown",
   "source": [
    "Show version 2 AST"
   ],
   "metadata": {
    "collapsed": false
   }
  },
  {
   "cell_type": "code",
   "execution_count": 20,
   "outputs": [
    {
     "name": "stdout",
     "output_type": "stream",
     "text": [
      "Module(\n",
      "    body=[\n",
      "        FunctionDef(name='assign_numbers',\n",
      "            args=arguments(posonlyargs=[],\n",
      "                args=[],\n",
      "                vararg=None,\n",
      "                kwonlyargs=[],\n",
      "                kw_defaults=[],\n",
      "                kwarg=None,\n",
      "                defaults=[]),\n",
      "            body=[\n",
      "                Assign(targets=[Name(id='x')], value=Constant(value=1, kind=None), type_comment=None),\n",
      "                Assign(targets=[Name(id='y')],\n",
      "                    value=BinOp(left=Constant(value=2, kind=None), op=Add, right=Constant(value=3, kind=None)),\n",
      "                    type_comment=None),\n",
      "                Assign(targets=[Name(id='z')],\n",
      "                    value=BinOp(\n",
      "                        left=BinOp(left=Constant(value=4, kind=None), op=Add, right=Constant(value=5, kind=None)),\n",
      "                        op=Add,\n",
      "                        right=Constant(value=6, kind=None)),\n",
      "                    type_comment=None)],\n",
      "            decorator_list=[],\n",
      "            returns=None,\n",
      "            type_comment=None)],\n",
      "    type_ignores=[])\n"
     ]
    }
   ],
   "source": [
    "compiled_ast = astor.parse_file(\"sample_files/funcs_v2.py\")\n",
    "print(astor.dump_tree(compiled_ast))"
   ],
   "metadata": {
    "collapsed": false,
    "pycharm": {
     "name": "#%%\n"
    }
   }
  },
  {
   "cell_type": "markdown",
   "source": [
    "Create a class to print function names from an AST"
   ],
   "metadata": {
    "collapsed": false,
    "pycharm": {
     "name": "#%% md\n"
    }
   }
  },
  {
   "cell_type": "code",
   "execution_count": 21,
   "outputs": [
    {
     "name": "stdout",
     "output_type": "stream",
     "text": [
      "assign_numbers\n",
      "<ast.Assign object at 0x1103e50d0>\n",
      "<ast.Assign object at 0x1103e5160>\n",
      "<ast.Assign object at 0x1103e5490>\n",
      "Done.\n"
     ]
    }
   ],
   "source": [
    "class PrintFunction(ast.NodeTransformer):\n",
    "    def visit_FunctionDef(self, node):\n",
    "        self.generic_visit(node)\n",
    "        print(node.name)\n",
    "        for leaf in node.body:\n",
    "            print(leaf)\n",
    "\n",
    "PrintFunction().visit(compiled_ast)\n",
    "print(\"Done.\")"
   ],
   "metadata": {
    "collapsed": false,
    "pycharm": {
     "name": "#%%\n"
    }
   }
  }
 ],
 "metadata": {
  "kernelspec": {
   "display_name": "Python 3",
   "language": "python",
   "name": "python3"
  },
  "language_info": {
   "codemirror_mode": {
    "name": "ipython",
    "version": 2
   },
   "file_extension": ".py",
   "mimetype": "text/x-python",
   "name": "python",
   "nbconvert_exporter": "python",
   "pygments_lexer": "ipython2",
   "version": "2.7.6"
  }
 },
 "nbformat": 4,
 "nbformat_minor": 0
}