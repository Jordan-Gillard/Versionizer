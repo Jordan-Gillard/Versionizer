{
 "cells": [
  {
   "cell_type": "markdown",
   "source": [
    "# AST Analysis Notebook"
   ],
   "metadata": {
    "collapsed": false
   }
  },
  {
   "cell_type": "code",
   "execution_count": 1,
   "outputs": [
    {
     "name": "stdout",
     "output_type": "stream",
     "text": [
      "Done importing\n"
     ]
    }
   ],
   "source": [
    "import ast\n",
    "import random\n",
    "from typing import Any, Set\n",
    "import astor\n",
    "from versionizer.ast_differ import ASTDiffer\n",
    "from versionizer.source_builder import SourceBuilder\n",
    "print(\"Done importing\")"
   ],
   "metadata": {
    "collapsed": false,
    "pycharm": {
     "name": "#%%\n"
    }
   }
  },
  {
   "cell_type": "markdown",
   "source": [
    "Show version 1 AST"
   ],
   "metadata": {
    "collapsed": false,
    "pycharm": {
     "name": "#%% md\n"
    }
   }
  },
  {
   "cell_type": "code",
   "execution_count": 2,
   "outputs": [
    {
     "name": "stdout",
     "output_type": "stream",
     "text": [
      "Module(\n",
      "    body=[\n",
      "        FunctionDef(name='assign_numbers',\n",
      "            args=arguments(posonlyargs=[],\n",
      "                args=[],\n",
      "                vararg=None,\n",
      "                kwonlyargs=[],\n",
      "                kw_defaults=[],\n",
      "                kwarg=None,\n",
      "                defaults=[]),\n",
      "            body=[\n",
      "                Assign(targets=[Name(id='x')], value=Constant(value=1, kind=None), type_comment=None),\n",
      "                Assign(targets=[Name(id='y')],\n",
      "                    value=BinOp(left=Constant(value=2, kind=None), op=Add, right=Constant(value=3, kind=None)),\n",
      "                    type_comment=None)],\n",
      "            decorator_list=[],\n",
      "            returns=None,\n",
      "            type_comment=None),\n",
      "        FunctionDef(name='func_with_params',\n",
      "            args=arguments(posonlyargs=[],\n",
      "                args=[arg(arg='a', annotation=None, type_comment=None),\n",
      "                    arg(arg='b', annotation=None, type_comment=None),\n",
      "                    arg(arg='c', annotation=None, type_comment=None)],\n",
      "                vararg=None,\n",
      "                kwonlyargs=[],\n",
      "                kw_defaults=[],\n",
      "                kwarg=None,\n",
      "                defaults=[]),\n",
      "            body=[Pass],\n",
      "            decorator_list=[],\n",
      "            returns=None,\n",
      "            type_comment=None),\n",
      "        FunctionDef(name='same_func',\n",
      "            args=arguments(posonlyargs=[],\n",
      "                args=[arg(arg='a', annotation=None, type_comment=None)],\n",
      "                vararg=None,\n",
      "                kwonlyargs=[],\n",
      "                kw_defaults=[],\n",
      "                kwarg=None,\n",
      "                defaults=[]),\n",
      "            body=[Return(value=Constant(value=1, kind=None))],\n",
      "            decorator_list=[],\n",
      "            returns=None,\n",
      "            type_comment=None)],\n",
      "    type_ignores=[])\n"
     ]
    }
   ],
   "source": [
    "compiled_ast = astor.parse_file(\"sample_files/funcs_v1.py\")\n",
    "print(astor.dump_tree(compiled_ast))"
   ],
   "metadata": {
    "collapsed": false,
    "pycharm": {
     "name": "#%%\n"
    }
   }
  },
  {
   "cell_type": "markdown",
   "source": [
    "Show version 2 AST"
   ],
   "metadata": {
    "collapsed": false
   }
  },
  {
   "cell_type": "code",
   "execution_count": 3,
   "outputs": [
    {
     "name": "stdout",
     "output_type": "stream",
     "text": [
      "Module(\n",
      "    body=[\n",
      "        FunctionDef(name='assign_numbers',\n",
      "            args=arguments(posonlyargs=[],\n",
      "                args=[],\n",
      "                vararg=None,\n",
      "                kwonlyargs=[],\n",
      "                kw_defaults=[],\n",
      "                kwarg=None,\n",
      "                defaults=[]),\n",
      "            body=[\n",
      "                Assign(targets=[Name(id='x')], value=Constant(value=1, kind=None), type_comment=None),\n",
      "                Assign(targets=[Name(id='y')],\n",
      "                    value=BinOp(left=Constant(value=2, kind=None), op=Add, right=Constant(value=3, kind=None)),\n",
      "                    type_comment=None),\n",
      "                Assign(targets=[Name(id='z')],\n",
      "                    value=BinOp(\n",
      "                        left=BinOp(left=Constant(value=4, kind=None), op=Add, right=Constant(value=5, kind=None)),\n",
      "                        op=Add,\n",
      "                        right=Constant(value=6, kind=None)),\n",
      "                    type_comment=None)],\n",
      "            decorator_list=[],\n",
      "            returns=None,\n",
      "            type_comment=None),\n",
      "        FunctionDef(name='func_with_params',\n",
      "            args=arguments(posonlyargs=[],\n",
      "                args=[arg(arg='a', annotation=None, type_comment=None),\n",
      "                    arg(arg='b', annotation=None, type_comment=None),\n",
      "                    arg(arg='c', annotation=None, type_comment=None)],\n",
      "                vararg=None,\n",
      "                kwonlyargs=[],\n",
      "                kw_defaults=[],\n",
      "                kwarg=None,\n",
      "                defaults=[]),\n",
      "            body=[Return(value=Constant(value=1, kind=None))],\n",
      "            decorator_list=[],\n",
      "            returns=None,\n",
      "            type_comment=None),\n",
      "        FunctionDef(name='same_func',\n",
      "            args=arguments(posonlyargs=[],\n",
      "                args=[arg(arg='a', annotation=None, type_comment=None)],\n",
      "                vararg=None,\n",
      "                kwonlyargs=[],\n",
      "                kw_defaults=[],\n",
      "                kwarg=None,\n",
      "                defaults=[]),\n",
      "            body=[Return(value=Constant(value=1, kind=None))],\n",
      "            decorator_list=[],\n",
      "            returns=None,\n",
      "            type_comment=None)],\n",
      "    type_ignores=[])\n"
     ]
    }
   ],
   "source": [
    "compiled_ast = astor.parse_file(\"sample_files/funcs_v2.py\")\n",
    "print(astor.dump_tree(compiled_ast))"
   ],
   "metadata": {
    "collapsed": false,
    "pycharm": {
     "name": "#%%\n"
    }
   }
  },
  {
   "cell_type": "markdown",
   "source": [
    "Create a class to print function names from an AST"
   ],
   "metadata": {
    "collapsed": false,
    "pycharm": {
     "name": "#%% md\n"
    }
   }
  },
  {
   "cell_type": "code",
   "execution_count": 4,
   "outputs": [
    {
     "name": "stdout",
     "output_type": "stream",
     "text": [
      "assign_numbers\n",
      "None\n",
      "func_with_params\n",
      "None\n",
      "a\n",
      "b\n",
      "c\n",
      "same_func\n",
      "None\n",
      "a\n",
      "Done.\n"
     ]
    }
   ],
   "source": [
    "class PrintFunction(ast.NodeTransformer):\n",
    "    def visit_FunctionDef(self, node):\n",
    "        self.generic_visit(node)\n",
    "        print(node.name)\n",
    "        # if return type isn't specified, it defaults to None\n",
    "        print(node.returns)\n",
    "        for arg in node.args.args:\n",
    "            print(arg.arg)\n",
    "\n",
    "PrintFunction().visit(compiled_ast)\n",
    "print(\"Done.\")"
   ],
   "metadata": {
    "collapsed": false,
    "pycharm": {
     "name": "#%%\n"
    }
   }
  },
  {
   "cell_type": "markdown",
   "source": [
    "Create a Node class to store AST nodes"
   ],
   "metadata": {
    "collapsed": false,
    "pycharm": {
     "name": "#%% md\n"
    }
   }
  },
  {
   "cell_type": "code",
   "execution_count": 5,
   "outputs": [],
   "source": [
    "class GraphNode:\n",
    "    # def __init__(self, name, num_params, returns, body):\n",
    "    def __init__(self, node):\n",
    "        self.name = node.name\n",
    "        self.num_params = len(node.args.args)\n",
    "        self.returns = node.returns\n",
    "        self.body = node.body\n",
    "\n",
    "    def __eq__(self, other):\n",
    "        if self is other:\n",
    "            return True\n",
    "        if not isinstance(other, GraphNode):\n",
    "            return False\n",
    "        return (self.name == other.name and\n",
    "               self.num_params == other.num_params and\n",
    "               self.returns == other.returns)\n",
    "\n",
    "    def __hash__(self):\n",
    "        return hash(self.name) + hash(self.num_params)\n",
    "\n",
    "    def __repr__(self):\n",
    "        return f\"{self.name}, {self.num_params} params -> {self.returns}\""
   ],
   "metadata": {
    "collapsed": false,
    "pycharm": {
     "name": "#%%\n"
    }
   }
  },
  {
   "cell_type": "markdown",
   "source": [
    "Now make a visitor function that builds a graph"
   ],
   "metadata": {
    "collapsed": false
   }
  },
  {
   "cell_type": "code",
   "execution_count": 6,
   "outputs": [],
   "source": [
    "class GraphCreator(ast.NodeTransformer):\n",
    "    def __init__(self, *args, **kwargs):\n",
    "        super().__init__()\n",
    "        self.nodes = {}\n",
    "\n",
    "    def visit_FunctionDef(self, node: ast.FunctionDef) -> Any:\n",
    "        self.generic_visit(node)\n",
    "        gNode = GraphNode(node)\n",
    "        self.nodes[gNode] = gNode\n",
    "\n",
    "    def print_nodes(self):\n",
    "        for node in self.nodes:\n",
    "            print(node)"
   ],
   "metadata": {
    "collapsed": false,
    "pycharm": {
     "name": "#%%\n"
    }
   }
  },
  {
   "cell_type": "markdown",
   "source": [
    "Parse the ASTs and find only the nodes that have changed their bodies"
   ],
   "metadata": {
    "collapsed": false,
    "pycharm": {
     "name": "#%% md\n"
    }
   }
  },
  {
   "cell_type": "code",
   "execution_count": 7,
   "outputs": [
    {
     "name": "stdout",
     "output_type": "stream",
     "text": [
      "Number of similar nodes: 3\n",
      "Finding functions which changed\n"
     ]
    }
   ],
   "source": [
    "compiled_ast_v1 = astor.parse_file(\"sample_files/funcs_v1.py\")\n",
    "compiled_ast_v2 = astor.parse_file(\"sample_files/funcs_v2.py\")\n",
    "g1 = GraphCreator()\n",
    "g2 = GraphCreator()\n",
    "g1.visit(compiled_ast_v1)\n",
    "g2.visit(compiled_ast_v2)\n",
    "\n",
    "def nodes_are_same(node1, node2):\n",
    "    return astor.dump_tree(node1) == astor.dump_tree(node2)\n",
    "\n",
    "same_func_nodes = g1.nodes.keys() & g2.nodes.keys()\n",
    "print(f\"Number of similar nodes: {len(same_func_nodes)}\")\n",
    "print(\"Finding functions which changed\")\n",
    "changed_nodes = set()\n",
    "for node in same_func_nodes:\n",
    "    if not nodes_are_same(g1.nodes[node].body, g2.nodes[node].body):\n",
    "        changed_nodes.add(node)"
   ],
   "metadata": {
    "collapsed": false,
    "pycharm": {
     "name": "#%%\n"
    }
   }
  },
  {
   "cell_type": "markdown",
   "source": [
    "Now rebuild the AST after removing nodes which stayed the same"
   ],
   "metadata": {
    "collapsed": false,
    "pycharm": {
     "name": "#%% md\n"
    }
   }
  },
  {
   "cell_type": "code",
   "execution_count": 8,
   "outputs": [
    {
     "name": "stdout",
     "output_type": "stream",
     "text": [
      "Module(\n",
      "    body=[\n",
      "        FunctionDef(name='assign_numbers',\n",
      "            args=arguments(posonlyargs=[],\n",
      "                args=[],\n",
      "                vararg=None,\n",
      "                kwonlyargs=[],\n",
      "                kw_defaults=[],\n",
      "                kwarg=None,\n",
      "                defaults=[]),\n",
      "            body=[\n",
      "                Assign(targets=[Name(id='x')], value=Constant(value=1, kind=None), type_comment=None),\n",
      "                Assign(targets=[Name(id='y')],\n",
      "                    value=BinOp(left=Constant(value=2, kind=None), op=Add, right=Constant(value=3, kind=None)),\n",
      "                    type_comment=None),\n",
      "                Assign(targets=[Name(id='z')],\n",
      "                    value=BinOp(\n",
      "                        left=BinOp(left=Constant(value=4, kind=None), op=Add, right=Constant(value=5, kind=None)),\n",
      "                        op=Add,\n",
      "                        right=Constant(value=6, kind=None)),\n",
      "                    type_comment=None)],\n",
      "            decorator_list=[],\n",
      "            returns=None,\n",
      "            type_comment=None),\n",
      "        FunctionDef(name='func_with_params',\n",
      "            args=arguments(posonlyargs=[],\n",
      "                args=[arg(arg='a', annotation=None, type_comment=None),\n",
      "                    arg(arg='b', annotation=None, type_comment=None),\n",
      "                    arg(arg='c', annotation=None, type_comment=None)],\n",
      "                vararg=None,\n",
      "                kwonlyargs=[],\n",
      "                kw_defaults=[],\n",
      "                kwarg=None,\n",
      "                defaults=[]),\n",
      "            body=[Return(value=Constant(value=1, kind=None))],\n",
      "            decorator_list=[],\n",
      "            returns=None,\n",
      "            type_comment=None)],\n",
      "    type_ignores=[])\n",
      "def assign_numbers():\n",
      "    x = 1\n",
      "    y = 2 + 3\n",
      "    z = 4 + 5 + 6\n",
      "\n",
      "\n",
      "def func_with_params(a, b, c):\n",
      "    return 1\n",
      "\n"
     ]
    }
   ],
   "source": [
    "class ASTPruner(ast.NodeTransformer):\n",
    "    def __init__(self, changed_nodes: Set[GraphNode]):\n",
    "        self.changed_nodes = changed_nodes\n",
    "\n",
    "    def visit_FunctionDef(self, node: ast.FunctionDef) -> Any:\n",
    "        gNode = GraphNode(node)\n",
    "        if gNode in self.changed_nodes:\n",
    "            return self.generic_visit(node)\n",
    "\n",
    "pruner = ASTPruner(changed_nodes)\n",
    "compiled_ast_v2 = astor.parse_file(\"sample_files/funcs_v2.py\")\n",
    "pruned_ast = pruner.visit(compiled_ast_v2)\n",
    "print(astor.dump_tree(pruned_ast))\n",
    "print(astor.to_source(pruned_ast))"
   ],
   "metadata": {
    "collapsed": false,
    "pycharm": {
     "name": "#%%\n"
    }
   }
  },
  {
   "cell_type": "markdown",
   "source": [
    "# Play around with new classes"
   ],
   "metadata": {
    "collapsed": false,
    "pycharm": {
     "name": "#%% md\n"
    }
   }
  },
  {
   "cell_type": "code",
   "execution_count": 9,
   "outputs": [
    {
     "name": "stdout",
     "output_type": "stream",
     "text": [
      "SOURCE CODE:\n",
      "def assign_numbers():\n",
      "    x = 1\n",
      "    y = 2 + 3\n",
      "\n",
      "\n",
      "def func_with_params(a, b, c):\n",
      "    pass\n",
      "\n",
      "Wrote new source file to new_source.py\n",
      "414\n"
     ]
    }
   ],
   "source": [
    "file1 = \"sample_files/funcs_v1.py\"\n",
    "file2 = \"sample_files/funcs_v2.py\"\n",
    "differ = ASTDiffer(file1, file2)\n",
    "\n",
    "nodes_to_keep = differ.get_changed_function_nodes()\n",
    "builder = SourceBuilder(file1, \"new_source.py\", nodes_to_keep)\n",
    "builder.build_source()\n",
    "print(random.randint(0, 1000))"
   ],
   "metadata": {
    "collapsed": false,
    "pycharm": {
     "name": "#%%\n"
    }
   }
  }
 ],
 "metadata": {
  "kernelspec": {
   "display_name": "Python 3",
   "language": "python",
   "name": "python3"
  },
  "language_info": {
   "codemirror_mode": {
    "name": "ipython",
    "version": 2
   },
   "file_extension": ".py",
   "mimetype": "text/x-python",
   "name": "python",
   "nbconvert_exporter": "python",
   "pygments_lexer": "ipython2",
   "version": "2.7.6"
  }
 },
 "nbformat": 4,
 "nbformat_minor": 0
}